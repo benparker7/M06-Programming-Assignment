{
 "cells": [
  {
   "cell_type": "code",
   "execution_count": 2,
   "id": "7e5006de",
   "metadata": {},
   "outputs": [
    {
     "name": "stdout",
     "output_type": "stream",
     "text": [
      "2022-07-18\n"
     ]
    }
   ],
   "source": [
    "# 13.1\n",
    "from datetime import date\n",
    "\n",
    "currentDate = str(date.today())\n",
    "print(currentDate)\n",
    "\n",
    "textFile = open('today.txt', 'w')\n",
    "textFile.write(currentDate)\n",
    "textFile.close()\n"
   ]
  },
  {
   "cell_type": "code",
   "execution_count": 4,
   "id": "d704f66f",
   "metadata": {},
   "outputs": [
    {
     "name": "stdout",
     "output_type": "stream",
     "text": [
      "<_io.TextIOWrapper name='today.txt' mode='rt' encoding='cp1252'>\n"
     ]
    }
   ],
   "source": [
    "# 13.2\n",
    "today_string = open('today.txt', 'rt')\n",
    "today_string.read()\n",
    "print(today_string)"
   ]
  },
  {
   "cell_type": "code",
   "execution_count": null,
   "id": "0941684f",
   "metadata": {},
   "outputs": [],
   "source": []
  }
 ],
 "metadata": {
  "kernelspec": {
   "display_name": "Python 3 (ipykernel)",
   "language": "python",
   "name": "python3"
  },
  "language_info": {
   "codemirror_mode": {
    "name": "ipython",
    "version": 3
   },
   "file_extension": ".py",
   "mimetype": "text/x-python",
   "name": "python",
   "nbconvert_exporter": "python",
   "pygments_lexer": "ipython3",
   "version": "3.9.12"
  }
 },
 "nbformat": 4,
 "nbformat_minor": 5
}
